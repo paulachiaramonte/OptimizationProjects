{
 "cells": [
  {
   "cell_type": "markdown",
   "metadata": {},
   "source": [
    "# Utility Maximization and Income Constraint\n",
    "\n",
    "The utility function in economics is a representation of the individual preferences of goods or services apart from the explicity monetary value of those goods or services. This utility function measure how much someone desires some good or service. This concept of utility helps to explain and measure mathematically different social constructs. \n",
    "\n",
    "The utility maximization consists on obtaining the values of units of two or more goods or services that maximize the utility of a certain individual. But this function needs to be constraint, because in real life all the purchases of goods and services are constrained by the budget or income that a person has. The constraint is that the income ($I$) needs to be equal  to the money spent on product, which is equal to the number of units of that product multiplied by the unit price of that product. \n",
    "\n",
    "So we can define the problem, using a *Cobb-Douglas* utility function of 4 products, as follows:\n",
    "\n",
    "$$max_{(x,y,z,w)}U = x^{\\alpha}y^{\\beta}z^{\\gamma}w^{\\delta}$$\n",
    "\n",
    "\n",
    "Income Constraint: \n",
    "\n",
    "$$I = p_x*x + p_y*y +p_zz +p_ww$$\n",
    "\n",
    "where $U$ = utility\n",
    "\n",
    "$x$, $y$, $z$ and $w$ are four different goods or services\n",
    "\n",
    "$I$ = income of the individual\n",
    "\n",
    "$p_x$ = price of a unit of good/service $x$\n",
    "\n",
    "$p_y$ = price of a unit of good/service $y$\n",
    "\n",
    "$p_z$ = price of a unit of good/service $z$\n",
    "\n",
    "$p_w$ = price of a unit of good/service $w$"
   ]
  },
  {
   "cell_type": "markdown",
   "metadata": {},
   "source": [
    "We can define the problem in python using the *spicy* library of optimization. Because this library minimizes, we need to define the problem such that the utility function is minimize. We used the following utility function of a certain individual\n",
    "\n",
    "$$min_{(x,y)}U = -(x^{2/3}y^{1/3}z^{2/7}w^{1/8})$$\n",
    "\n",
    "constrained by:\n",
    "\n",
    "$$- I = - p_xx - p_yy - p_zz - p_ww$$\n",
    "\n",
    "And we need to define the variables $p_x, p_y$ $p_y$, $p_z$ and $I$. \n",
    "\n",
    "If we say that the budget an individual is equal to **1500€**. And we have four different products: \n",
    "\n",
    "Product $X$ is <a href = \"https://www.amazon.com/-/es/Starbucks-C%C3%A1psulas-K-Cup-tostado-franc%C3%A9s/dp/B06XXGP24J/ref=sr_1_11?__mk_es_US=%C3%85M%C3%85%C5%BD%C3%95%C3%91&crid=265JGKOU1K90Q&keywords=starbucks+k+cups&qid=1638636238&sprefix=starbucks+%2Caps%2C295&sr=8-11\" target = \"_blank\">*Starbuck's French Roast coffee capsules (60 pods)*</a>, which has a price of **54.99€** per unit.\n",
    "\n",
    "The second product $Y$ is <a href = \"https://www.amazon.com/-/es/Benefit-Cosmetics-Gimme-volumen-Marr%C3%B3n/dp/B01MTIXYKI/ref=sr_1_3?__mk_es_US=%C3%85M%C3%85%C5%BD%C3%95%C3%91&keywords=benefit&qid=1638636492&sr=8-3\" target = \"_blank\">*Benefit Cosmetics Gimme - Brow Gel*</a>, which has a price of **22.99€** per unit. \n",
    "\n",
    "The third product $Z$ is an *All You Can Eat* Sushi Buffet menu, that has a price of **13.99€** per menu (per unit). \n",
    "\n",
    "And the fourth product $W$ a <a href = \"https://www.zara.com/es/es/sudadera-b%C3%A1sica-capucha-p01660813.html?v1=153713350&v2=1882974\" target = \"_blank\" >ZARA Sweatshirt</a> that has a price of **15.95€**\n",
    "\n",
    "We have the following values: \n",
    "\n",
    "$p_x = 54.99$\n",
    "\n",
    "$p_y = 22.99$\n",
    "\n",
    "$p_z = 13.99$\n",
    "\n",
    "$p_w = 15.95$\n",
    "\n",
    "$I = 1500$. \n",
    "\n",
    "And the problem is equal to:\n",
    "\n",
    "$$min_{(x,y)}U = -(x^{2/3}y^{1/3}z^{2/7}w^{1/8})$$\n",
    "\n",
    "constrained by:\n",
    "\n",
    "$$1500 - 54.99x - 22.99y - 13.99z - 15.95w= 0 $$"
   ]
  },
  {
   "cell_type": "code",
   "execution_count": 3,
   "metadata": {},
   "outputs": [
    {
     "name": "stdout",
     "output_type": "stream",
     "text": [
      "Optimization terminated successfully.    (Exit mode 0)\n",
      "            Current function value: -42.07886707116083\n",
      "            Iterations: 15\n",
      "            Function evaluations: 15\n",
      "            Gradient evaluations: 15\n"
     ]
    },
    {
     "data": {
      "text/plain": [
       "     fun: -42.07886707116083\n",
       "     jac: array([-2.17603492, -0.90978762, -0.6313396 , -0.55361763])\n",
       " message: 'Optimization terminated successfully.'\n",
       "    nfev: 15\n",
       "     nit: 15\n",
       "    njev: 15\n",
       "  status: 0\n",
       " success: True\n",
       "       x: array([12.89160286, 15.4171025 , 19.04289456,  9.50088663])"
      ]
     },
     "execution_count": 3,
     "metadata": {},
     "output_type": "execute_result"
    }
   ],
   "source": [
    "import numpy as np\n",
    "from scipy.optimize import minimize\n",
    "\n",
    "def objective(X):\n",
    "    x, y,z,w= X\n",
    "    return -(x**(2/3)*y**(1/3)*z**(2/7)*w**(1/8))\n",
    "\n",
    "def gradient(X):\n",
    "    x, y ,z,w= X\n",
    "    return np.array([ -(2/3)*(x**(2/3 -1))*y**(1/3)*z**(2/7)*w**(1/8), -(1/3)*(x**(2/3))*(y**(1/3 -1))*z**(2/7)*w**(1/8), -(2/7)*(x**(2/3))*(y**(1/3))*(z**(2/7-1))*w**(1/8), -(1/8)*(x**(2/3))*(y**(1/3))*(z**(2/7))*w**(1/8 -1)])\n",
    "\n",
    "def eq_cons(X):\n",
    "    x, y,z,w = X\n",
    "    return 1500 - 54.99*x -22.99*y - 15.95*z - 13.99*w\n",
    "\n",
    "cons = ({'type': 'eq',\n",
    "    'fun' : eq_cons})\n",
    "\n",
    "sol = minimize(objective, x0=[1, 1,1,1], constraints=cons, jac=gradient, \n",
    "               method='SLSQP', options={'disp': True})\n",
    "sol"
   ]
  },
  {
   "cell_type": "markdown",
   "metadata": {},
   "source": [
    "To maximize the utility (satisfaction/happiness) of this individual, they need to buy $12.89$ units of product $X$, $15.41$ units of product $Y$, $19.04$ units of service $Z$ and $9.5$ units of product $W$. \n",
    "\n",
    "If we analyze these values, we can say that in this individual's case, the alternative with the highest total utility is product $Z$, which is the **All You Can Eat Sushi Menu**, which means that is the product that produces the higher satisfaction in this individual within their budget/income. It also means that product $Z$ is preferred by the individual 1.5 times more than product $X$, 1.2 times more than product $Y$ and 2.1 times more than product $W$. \n",
    "\n",
    "We can conclude that this individual gets more utility from the service product (eating outside of the house) than the self-care and food products (makeup, coffee and clothes). "
   ]
  }
 ],
 "metadata": {
  "kernelspec": {
   "display_name": "Python 3",
   "language": "python",
   "name": "python3"
  },
  "language_info": {
   "codemirror_mode": {
    "name": "ipython",
    "version": 3
   },
   "file_extension": ".py",
   "mimetype": "text/x-python",
   "name": "python",
   "nbconvert_exporter": "python",
   "pygments_lexer": "ipython3",
   "version": "3.7.6"
  }
 },
 "nbformat": 4,
 "nbformat_minor": 4
}
